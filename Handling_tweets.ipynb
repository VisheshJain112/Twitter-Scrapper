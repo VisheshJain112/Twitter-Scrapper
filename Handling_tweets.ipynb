{
  "nbformat": 4,
  "nbformat_minor": 0,
  "metadata": {
    "colab": {
      "name": "Handling_tweets.ipynb",
      "provenance": []
    },
    "kernelspec": {
      "name": "python3",
      "display_name": "Python 3"
    }
  },
  "cells": [
    {
      "cell_type": "code",
      "metadata": {
        "id": "1cxvwUWdwZ_D",
        "colab_type": "code",
        "colab": {
          "base_uri": "https://localhost:8080/",
          "height": 35
        },
        "outputId": "f2be89c9-0e06-4b5c-cacf-1b09dba8d45c"
      },
      "source": [
        "from tweepy import Stream\n",
        "from tweepy import OAuthHandler\n",
        "from tweepy.streaming import StreamListener\n",
        "\n",
        "import os\n",
        "newpath = '/twitter_data/tweets' \n",
        "if not os.path.exists(newpath):\n",
        "    os.makedirs(newpath)\n",
        "#consumer key, consumer secret, access token, access secret.\n",
        "ckey=\"6QLzCDSl0aNJygdzaVRtJ5Hod\"\n",
        "csecret=\"jrQaPPuLYtGIaaOTzPatk9NOpROtJVEw5CDlJ4T4XDSzSGNBft\"\n",
        "atoken=\"1282011428816211969-zu1EePBuHFERgtulwlcMh3GfPQ7deS\"\n",
        "asecret=\"v3KFFqUAm5MmqyD7wuba9Mvwd073LPJTvyNB5FgQi6scC\"\n",
        "\n",
        "\n",
        "\n",
        "import tweepy \n",
        "  \n",
        "\n",
        "consumer_key = \"6QLzCDSl0aNJygdzaVRtJ5Hod\"\n",
        "consumer_secret = \"jrQaPPuLYtGIaaOTzPatk9NOpROtJVEw5CDlJ4T4XDSzSGNBft\"\n",
        "access_key =\"1282011428816211969-zu1EePBuHFERgtulwlcMh3GfPQ7deS\"\n",
        "access_secret = \"v3KFFqUAm5MmqyD7wuba9Mvwd073LPJTvyNB5FgQi6scC\"\n",
        "\n",
        "\n",
        "def get_tweets(username): \n",
        "          \n",
        "     \n",
        "        auth = tweepy.OAuthHandler(consumer_key, consumer_secret) \n",
        "  \n",
        "        \n",
        "        auth.set_access_token(access_key, access_secret) \n",
        "  \n",
        " \n",
        "        api = tweepy.API(auth) \n",
        "  \n",
        "        \n",
        "        number_of_tweets=200\n",
        "        tweets = api.user_timeline(screen_name=username) \n",
        "  \n",
        "      \n",
        "        tmp=[]  \n",
        "  \n",
        "        \n",
        "        tweets_for_csv = [tweet.text for tweet in tweets]  \n",
        "        for j in tweets_for_csv: \n",
        "  \n",
        "            \n",
        "            tmp.append(j)  \n",
        "            \n",
        "  \n",
        "       \n",
        "        return tmp\n",
        "\n",
        "\n",
        "        \n",
        "  \n",
        "  \n",
        "\n",
        "if __name__ == '__main__': \n",
        "  username = input(\"username : \")\n",
        "  tweets=list(get_tweets(\"{}\".format(username)))\n",
        "  os.chdir('/twitter_data/tweets/')\n",
        "  with open(\"{}_latest.txt\".format(username), \"w\") as txt_file:\n",
        "    for line in tweets:\n",
        "        txt_file.write(line+ \"\\n\")\n",
        "  import csv\n",
        "  import csv\n",
        "\n",
        "  with open('{}_latest'.format(username), 'w') as myfile:\n",
        "      wr = csv.writer(myfile, quoting=csv.QUOTE_ALL,delimiter='\\n')\n",
        "      \n",
        "\n",
        "      wr.writerow(tweets)\n",
        "\n",
        "\n"
      ],
      "execution_count": null,
      "outputs": [
        {
          "output_type": "stream",
          "text": [
            "username : moneycontrolcom\n"
          ],
          "name": "stdout"
        }
      ]
    },
    {
      "cell_type": "code",
      "metadata": {
        "id": "xKNm7_-hBZez",
        "colab_type": "code",
        "colab": {
          "base_uri": "https://localhost:8080/",
          "height": 392
        },
        "outputId": "613e22df-6a53-4f3f-a2c1-88035ac72731"
      },
      "source": [
        "import pandas as pd\n",
        "df=pd.read_csv('/twitter_data/tweets/moneycontrolcom_latest')\n"
      ],
      "execution_count": null,
      "outputs": [
        {
          "output_type": "stream",
          "text": [
            "   There was no change in the ground position, and the next phase of the de-escalation process will kick off only afte… https://t.co/8q19LZg0CU\n",
            "0   \"So far, more than 53,000 verification request...                                                                                          \n",
            "1   Last week, the UGC in its revised guidelines d...                                                                                          \n",
            "2   The city corporation has been under triple loc...                                                                                          \n",
            "3   By the end of FY20, the life insurance industr...                                                                                          \n",
            "4   The tourism sector, the backbone of J&amp;K's ...                                                                                          \n",
            "5   #Covid_19 vaccine | The first group of 18 volu...                                                                                          \n",
            "6   Addressing a press conference at #Rajasthan CM...                                                                                          \n",
            "7   #Qualcomm Ventures' stake buy worth Rs 730 cro...                                                                                          \n",
            "8   The govt is planning to create to women-specif...                                                                                          \n",
            "9   13th such investment in Jio Platforms in 12 we...                                                                                          \n",
            "10  Qualcomm Inc will invest Rs 730 crore in #JioP...                                                                                          \n",
            "11  As per SC guidelines, an FIR and magisterial i...                                                                                          \n",
            "12  Qualcomm Inc will invest Rs 730 crore in #JioP...                                                                                          \n",
            "13  The US Dept of Treasury has designated Saeed a...                                                                                          \n",
            "14  Why are bench employees first in the line of f...                                                                                          \n",
            "15  The deal with Qualcomm—the 13th such investmen...                                                                                          \n",
            "16  As part of Aatmanirbhar Bharat package announc...                                                                                          \n",
            "17  The accused, remanded to 30-day custody, under...                                                                                          \n",
            "18  Earlier in the day, Delhi CM Arvind Kejriwal t...                                                                                          \n"
          ],
          "name": "stdout"
        }
      ]
    },
    {
      "cell_type": "code",
      "metadata": {
        "id": "R19xOZ-F6BrA",
        "colab_type": "code",
        "colab": {
          "base_uri": "https://localhost:8080/",
          "height": 35
        },
        "outputId": "34b7c2b0-33f5-4b50-98b7-b326c515227d"
      },
      "source": [
        "laimport os\n",
        "print(os.getcwd())"
      ],
      "execution_count": null,
      "outputs": [
        {
          "output_type": "stream",
          "text": [
            "/content\n"
          ],
          "name": "stdout"
        }
      ]
    },
    {
      "cell_type": "code",
      "metadata": {
        "id": "fK8Th94Gw0d2",
        "colab_type": "code",
        "colab": {}
      },
      "source": [
        ""
      ],
      "execution_count": null,
      "outputs": []
    }
  ]
}